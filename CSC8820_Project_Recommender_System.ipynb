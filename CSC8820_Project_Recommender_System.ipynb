{
  "nbformat": 4,
  "nbformat_minor": 0,
  "metadata": {
    "colab": {
      "name": "CSC8820 Project - Recommender System.ipynb",
      "provenance": [],
      "machine_shape": "hm",
      "toc_visible": true,
      "authorship_tag": "ABX9TyMy4sFf6hucJmUA2cpV9hdF",
      "include_colab_link": true
    },
    "kernelspec": {
      "name": "python3",
      "display_name": "Python 3"
    },
    "language_info": {
      "name": "python"
    },
    "accelerator": "GPU"
  },
  "cells": [
    {
      "cell_type": "markdown",
      "metadata": {
        "id": "view-in-github",
        "colab_type": "text"
      },
      "source": [
        "<a href=\"https://colab.research.google.com/github/LuisRobles18/CSC8220/blob/main/CSC8820_Project_Recommender_System.ipynb\" target=\"_parent\"><img src=\"https://colab.research.google.com/assets/colab-badge.svg\" alt=\"Open In Colab\"/></a>"
      ]
    },
    {
      "cell_type": "markdown",
      "source": [
        "**By:** Luis Alberto Robles Hernandez\n",
        "\n",
        "**Student ID:** 002581393"
      ],
      "metadata": {
        "id": "nMM-YgkH1Xuz"
      }
    },
    {
      "cell_type": "markdown",
      "source": [
        "#**Importing modules**"
      ],
      "metadata": {
        "id": "kAbOKpyAuavw"
      }
    },
    {
      "cell_type": "markdown",
      "source": [
        "All the required modules are imported in this section"
      ],
      "metadata": {
        "id": "Z57bB6awuRGu"
      }
    },
    {
      "cell_type": "code",
      "source": [
        "import zipfile\n",
        "import pandas as pd\n",
        "import numpy as np\n",
        "import matplotlib.pyplot as plt\n",
        "import datetime\n",
        "import math\n",
        "import os\n",
        "import warnings\n",
        "from keras.models import load_model\n",
        "from sklearn.model_selection import train_test_split\n",
        "from keras.layers import Input, Embedding, Flatten, Dot, Dense, Concatenate\n",
        "from keras.models import Model\n",
        "from sklearn.metrics import mean_squared_error\n",
        "warnings.filterwarnings('ignore')\n",
        "%matplotlib inline"
      ],
      "metadata": {
        "id": "FDt1kFi9uQLv"
      },
      "execution_count": null,
      "outputs": []
    },
    {
      "cell_type": "markdown",
      "source": [
        "#**Reading dataset and preparing data**"
      ],
      "metadata": {
        "id": "hJ36VQGVKJ2s"
      }
    },
    {
      "cell_type": "markdown",
      "source": [
        "**NOTE:** Before starting building the Convolutional Neural Network, it is important to upload the *meetup_dataset.zip* file to the server. As an alternative, it can be downloaded by executing the following code:"
      ],
      "metadata": {
        "id": "TNuPSn72rxMO"
      }
    },
    {
      "cell_type": "code",
      "source": [
        "!gdown --id 1NaXMJvR2823AVoULyZV3w8BRqQGkqWk4"
      ],
      "metadata": {
        "colab": {
          "base_uri": "https://localhost:8080/"
        },
        "id": "Qip-wMA-sESB",
        "outputId": "81c7ebf6-d2ce-4761-dfa6-cba6274c7126"
      },
      "execution_count": null,
      "outputs": [
        {
          "output_type": "stream",
          "name": "stdout",
          "text": [
            "/usr/local/lib/python3.7/dist-packages/gdown/cli.py:131: FutureWarning: Option `--id` was deprecated in version 4.3.1 and will be removed in 5.0. You don't need to pass it anymore to use a file ID.\n",
            "  category=FutureWarning,\n",
            "Downloading...\n",
            "From: https://drive.google.com/uc?id=1NaXMJvR2823AVoULyZV3w8BRqQGkqWk4\n",
            "To: /content/meetup_dataset.zip\n",
            "100% 1.71M/1.71M [00:00<00:00, 171MB/s]\n"
          ]
        }
      ]
    },
    {
      "cell_type": "markdown",
      "source": [
        "The following dataset is publicly available for anyone. It consists of data crawled from a typical Event-based Social Network, Meetup.com. The statistics of the dataset are the following:\n",
        "\n",
        "*   **Number of unique events:** 19,307\n",
        "*   **Number of unique groups:** 602\n",
        "*   **Number of unique members:** 24,591\n",
        "*   **Number of unique RSVPs:** 126,813\n",
        "\n",
        "\n",
        "\n"
      ],
      "metadata": {
        "id": "rMdiRjU-sYLp"
      }
    },
    {
      "cell_type": "code",
      "source": [
        "with zipfile.ZipFile(\"meetup_dataset.zip\", 'r') as zip_ref:\n",
        "    zip_ref.extractall()"
      ],
      "metadata": {
        "id": "cPWJNnkdsoaT"
      },
      "execution_count": null,
      "outputs": []
    },
    {
      "cell_type": "markdown",
      "source": [
        "##**Exporting dataset to a dataframe**"
      ],
      "metadata": {
        "id": "ASFykjKOwFr6"
      }
    },
    {
      "cell_type": "markdown",
      "source": [
        "Each of the following items previously listed are located in separated CSV files. Therefore, we will read each of these files on separated dataframes."
      ],
      "metadata": {
        "id": "ww_58jXKLQWW"
      }
    },
    {
      "cell_type": "code",
      "execution_count": null,
      "metadata": {
        "id": "KiRQwZ2_I29T"
      },
      "outputs": [],
      "source": [
        "df_events = pd.read_csv('meetup_dataset/meta-events.csv')\n",
        "df_groups = pd.read_csv('meetup_dataset/meta-groups.csv')\n",
        "df_members = pd.read_csv('meetup_dataset/meta-members.csv')\n",
        "df_rsvp = pd.read_csv('meetup_dataset/rsvps.csv')"
      ]
    },
    {
      "cell_type": "markdown",
      "source": [
        "We remove all duplicates (if any) from the dataframes"
      ],
      "metadata": {
        "id": "xl03YfXQLSVH"
      }
    },
    {
      "cell_type": "code",
      "source": [
        "df_events = df_events.drop_duplicates()\n",
        "df_groups = df_groups.drop_duplicates()\n",
        "df_members = df_members.drop_duplicates()\n",
        "df_rsvp = df_rsvp.drop_duplicates()\n",
        "\n",
        "print(\"Total number of unique events: \"+str(len(df_events)))\n",
        "print(\"Total number of unique groups: \"+str(len(df_groups)))\n",
        "print(\"Total number of unique members: \"+str(len(df_members)))\n",
        "print(\"Total number of unique rsvps: \"+str(len(df_rsvp)))"
      ],
      "metadata": {
        "colab": {
          "base_uri": "https://localhost:8080/"
        },
        "id": "DNA29_TAKxq1",
        "outputId": "9c8b2a80-182f-49dc-cb1f-f1ddeca8fa22"
      },
      "execution_count": null,
      "outputs": [
        {
          "output_type": "stream",
          "name": "stdout",
          "text": [
            "Total number of unique events: 19307\n",
            "Total number of unique groups: 602\n",
            "Total number of unique members: 24591\n",
            "Total number of unique rsvps: 126813\n"
          ]
        }
      ]
    },
    {
      "cell_type": "markdown",
      "source": [
        "##**Filtering data**"
      ],
      "metadata": {
        "id": "7MV-xJaZwMdS"
      }
    },
    {
      "cell_type": "markdown",
      "source": [
        "**Generating a single dataframe based on rsvp:** In this part of the code, we perform a join operation between the RSVPs and members table in order to filter out those members who attended less than 10 events."
      ],
      "metadata": {
        "id": "P7tURNQiMVWe"
      }
    },
    {
      "cell_type": "code",
      "source": [
        "df_merged = df_rsvp.merge(df_members, on='member_id', how='left')\n",
        "df_rsvps_per_member = df_merged.value_counts(subset=['member_id']).to_frame()\n",
        "df_rsvps_per_member = df_rsvps_per_member[0].reset_index(name=\"count\")\n",
        "df_rsvps_per_member = df_rsvps_per_member[df_rsvps_per_member['count'] > 10]\n",
        "frequent_members_list = df_rsvps_per_member['member_id'].to_list()\n",
        "print(\"Number of members that attended at least on 10 events: \"+str(len(frequent_members_list)))\n",
        "\n",
        "df_merged = df_merged[df_merged['member_id'].isin(frequent_members_list)]\n",
        "print(\"Total of unique RSVPs (only members attending at least 10 events): \"+str(len(df_merged)))"
      ],
      "metadata": {
        "id": "8v1qbUVKMVcE",
        "colab": {
          "base_uri": "https://localhost:8080/"
        },
        "outputId": "91c07fee-1349-47f3-e686-2d8cac0fd13f"
      },
      "execution_count": null,
      "outputs": [
        {
          "output_type": "stream",
          "name": "stdout",
          "text": [
            "Number of members that attended at least on 10 events: 2695\n",
            "Total of unique RSVPs (only members attending at least 10 events): 71990\n"
          ]
        }
      ]
    },
    {
      "cell_type": "markdown",
      "source": [
        "##**Merging the dataframes**\n",
        "\n",
        "In this part, we perform join operations on the RSVPs dataframe with the member, group, and event dataframes."
      ],
      "metadata": {
        "id": "m4pdSGoFP3Tg"
      }
    },
    {
      "cell_type": "code",
      "source": [
        "#Merging with the events dataframe in order to get all the details from the events\n",
        "df_merged = df_merged.merge(df_events, on='event_id', how='left')\n",
        "df_merged = df_merged.drop(['group_id_y'], axis=1)\n",
        "df_merged.rename(columns = {\"group_id_x\": \"group_id\"}, inplace = True)\n",
        "#Merging with the groups dataframe in order to get all the details from the group\n",
        "df_merged = df_merged.merge(df_groups, on='group_id', how='left')\n",
        "df_merged.head()"
      ],
      "metadata": {
        "colab": {
          "base_uri": "https://localhost:8080/",
          "height": 530
        },
        "id": "Rr0xZodrP6fg",
        "outputId": "a2a0d074-d36f-4355-a16b-2fceb9a22b6f"
      },
      "execution_count": null,
      "outputs": [
        {
          "output_type": "execute_result",
          "data": {
            "text/plain": [
              "   rsvp_id      event_id  member_id  group_id member_name member_hometown  \\\n",
              "0        0     243930425    6770985  26140018         Joe       Nashville   \n",
              "1        3  pxlktnywnbfb  208888939  25973656        Leah             NaN   \n",
              "2        4     244444551    1720391  18571126     Kathryn       Nashville   \n",
              "3        5     244257722    1720391  18571126     Kathryn       Nashville   \n",
              "4        6     243997614    1720391  18571126     Kathryn       Nashville   \n",
              "\n",
              "  member_city member_state  member_lat  member_lon  \\\n",
              "0   Nashville           TN       36.16      -86.79   \n",
              "1   Nashville           TN       36.17      -86.78   \n",
              "2   Nashville           TN       36.17      -86.78   \n",
              "3   Nashville           TN       36.17      -86.78   \n",
              "4   Nashville           TN       36.17      -86.78   \n",
              "\n",
              "                                   event_description        event_time  \\\n",
              "0  2017 Nashville Walk to End Alzheimers - Octob...  10/14/2017 12:00   \n",
              "1                                    Schedule Meetup   10/3/2017 23:30   \n",
              "2  Happy Hour Wednesday, Jonathan's Green Hills, ...  10/25/2017 22:30   \n",
              "3           Happy Hour Wednesday, Brentwood, Oct. 18  10/18/2017 22:30   \n",
              "4                   Cocktails at the Top, Brentwood   10/12/2017 23:30   \n",
              "\n",
              "                                          group_name  num_members  \\\n",
              "0  Fight against Alzheimer’s Disease/Walk'n to En...            3   \n",
              "1  Trichotillomania and Skin-Picking Disorder Sup...            6   \n",
              "2           Bellevue Business Buzz Networking  Group            5   \n",
              "3           Bellevue Business Buzz Networking  Group            5   \n",
              "4           Bellevue Business Buzz Networking  Group            5   \n",
              "\n",
              "   category_id            category_name  organizer_id  \\\n",
              "0            4  Community & Environment       6770985   \n",
              "1           33                  Support     208888939   \n",
              "2            2        Career & Business       1720391   \n",
              "3            2        Career & Business       1720391   \n",
              "4            2        Career & Business       1720391   \n",
              "\n",
              "                                       group_urlname  \n",
              "0  Nashville-Fights-Against-Alzheimer-Walk-to-EndALZ  \n",
              "1  Trichotillomania-and-Skin-Picking-Disorder-Sup...  \n",
              "2                           Bellevue-Business-Meetup  \n",
              "3                           Bellevue-Business-Meetup  \n",
              "4                           Bellevue-Business-Meetup  "
            ],
            "text/html": [
              "\n",
              "  <div id=\"df-b6944c3d-efc5-4e43-9d26-e133e3263ddd\">\n",
              "    <div class=\"colab-df-container\">\n",
              "      <div>\n",
              "<style scoped>\n",
              "    .dataframe tbody tr th:only-of-type {\n",
              "        vertical-align: middle;\n",
              "    }\n",
              "\n",
              "    .dataframe tbody tr th {\n",
              "        vertical-align: top;\n",
              "    }\n",
              "\n",
              "    .dataframe thead th {\n",
              "        text-align: right;\n",
              "    }\n",
              "</style>\n",
              "<table border=\"1\" class=\"dataframe\">\n",
              "  <thead>\n",
              "    <tr style=\"text-align: right;\">\n",
              "      <th></th>\n",
              "      <th>rsvp_id</th>\n",
              "      <th>event_id</th>\n",
              "      <th>member_id</th>\n",
              "      <th>group_id</th>\n",
              "      <th>member_name</th>\n",
              "      <th>member_hometown</th>\n",
              "      <th>member_city</th>\n",
              "      <th>member_state</th>\n",
              "      <th>member_lat</th>\n",
              "      <th>member_lon</th>\n",
              "      <th>event_description</th>\n",
              "      <th>event_time</th>\n",
              "      <th>group_name</th>\n",
              "      <th>num_members</th>\n",
              "      <th>category_id</th>\n",
              "      <th>category_name</th>\n",
              "      <th>organizer_id</th>\n",
              "      <th>group_urlname</th>\n",
              "    </tr>\n",
              "  </thead>\n",
              "  <tbody>\n",
              "    <tr>\n",
              "      <th>0</th>\n",
              "      <td>0</td>\n",
              "      <td>243930425</td>\n",
              "      <td>6770985</td>\n",
              "      <td>26140018</td>\n",
              "      <td>Joe</td>\n",
              "      <td>Nashville</td>\n",
              "      <td>Nashville</td>\n",
              "      <td>TN</td>\n",
              "      <td>36.16</td>\n",
              "      <td>-86.79</td>\n",
              "      <td>2017 Nashville Walk to End Alzheimers - Octob...</td>\n",
              "      <td>10/14/2017 12:00</td>\n",
              "      <td>Fight against Alzheimer’s Disease/Walk'n to En...</td>\n",
              "      <td>3</td>\n",
              "      <td>4</td>\n",
              "      <td>Community &amp; Environment</td>\n",
              "      <td>6770985</td>\n",
              "      <td>Nashville-Fights-Against-Alzheimer-Walk-to-EndALZ</td>\n",
              "    </tr>\n",
              "    <tr>\n",
              "      <th>1</th>\n",
              "      <td>3</td>\n",
              "      <td>pxlktnywnbfb</td>\n",
              "      <td>208888939</td>\n",
              "      <td>25973656</td>\n",
              "      <td>Leah</td>\n",
              "      <td>NaN</td>\n",
              "      <td>Nashville</td>\n",
              "      <td>TN</td>\n",
              "      <td>36.17</td>\n",
              "      <td>-86.78</td>\n",
              "      <td>Schedule Meetup</td>\n",
              "      <td>10/3/2017 23:30</td>\n",
              "      <td>Trichotillomania and Skin-Picking Disorder Sup...</td>\n",
              "      <td>6</td>\n",
              "      <td>33</td>\n",
              "      <td>Support</td>\n",
              "      <td>208888939</td>\n",
              "      <td>Trichotillomania-and-Skin-Picking-Disorder-Sup...</td>\n",
              "    </tr>\n",
              "    <tr>\n",
              "      <th>2</th>\n",
              "      <td>4</td>\n",
              "      <td>244444551</td>\n",
              "      <td>1720391</td>\n",
              "      <td>18571126</td>\n",
              "      <td>Kathryn</td>\n",
              "      <td>Nashville</td>\n",
              "      <td>Nashville</td>\n",
              "      <td>TN</td>\n",
              "      <td>36.17</td>\n",
              "      <td>-86.78</td>\n",
              "      <td>Happy Hour Wednesday, Jonathan's Green Hills, ...</td>\n",
              "      <td>10/25/2017 22:30</td>\n",
              "      <td>Bellevue Business Buzz Networking  Group</td>\n",
              "      <td>5</td>\n",
              "      <td>2</td>\n",
              "      <td>Career &amp; Business</td>\n",
              "      <td>1720391</td>\n",
              "      <td>Bellevue-Business-Meetup</td>\n",
              "    </tr>\n",
              "    <tr>\n",
              "      <th>3</th>\n",
              "      <td>5</td>\n",
              "      <td>244257722</td>\n",
              "      <td>1720391</td>\n",
              "      <td>18571126</td>\n",
              "      <td>Kathryn</td>\n",
              "      <td>Nashville</td>\n",
              "      <td>Nashville</td>\n",
              "      <td>TN</td>\n",
              "      <td>36.17</td>\n",
              "      <td>-86.78</td>\n",
              "      <td>Happy Hour Wednesday, Brentwood, Oct. 18</td>\n",
              "      <td>10/18/2017 22:30</td>\n",
              "      <td>Bellevue Business Buzz Networking  Group</td>\n",
              "      <td>5</td>\n",
              "      <td>2</td>\n",
              "      <td>Career &amp; Business</td>\n",
              "      <td>1720391</td>\n",
              "      <td>Bellevue-Business-Meetup</td>\n",
              "    </tr>\n",
              "    <tr>\n",
              "      <th>4</th>\n",
              "      <td>6</td>\n",
              "      <td>243997614</td>\n",
              "      <td>1720391</td>\n",
              "      <td>18571126</td>\n",
              "      <td>Kathryn</td>\n",
              "      <td>Nashville</td>\n",
              "      <td>Nashville</td>\n",
              "      <td>TN</td>\n",
              "      <td>36.17</td>\n",
              "      <td>-86.78</td>\n",
              "      <td>Cocktails at the Top, Brentwood</td>\n",
              "      <td>10/12/2017 23:30</td>\n",
              "      <td>Bellevue Business Buzz Networking  Group</td>\n",
              "      <td>5</td>\n",
              "      <td>2</td>\n",
              "      <td>Career &amp; Business</td>\n",
              "      <td>1720391</td>\n",
              "      <td>Bellevue-Business-Meetup</td>\n",
              "    </tr>\n",
              "  </tbody>\n",
              "</table>\n",
              "</div>\n",
              "      <button class=\"colab-df-convert\" onclick=\"convertToInteractive('df-b6944c3d-efc5-4e43-9d26-e133e3263ddd')\"\n",
              "              title=\"Convert this dataframe to an interactive table.\"\n",
              "              style=\"display:none;\">\n",
              "        \n",
              "  <svg xmlns=\"http://www.w3.org/2000/svg\" height=\"24px\"viewBox=\"0 0 24 24\"\n",
              "       width=\"24px\">\n",
              "    <path d=\"M0 0h24v24H0V0z\" fill=\"none\"/>\n",
              "    <path d=\"M18.56 5.44l.94 2.06.94-2.06 2.06-.94-2.06-.94-.94-2.06-.94 2.06-2.06.94zm-11 1L8.5 8.5l.94-2.06 2.06-.94-2.06-.94L8.5 2.5l-.94 2.06-2.06.94zm10 10l.94 2.06.94-2.06 2.06-.94-2.06-.94-.94-2.06-.94 2.06-2.06.94z\"/><path d=\"M17.41 7.96l-1.37-1.37c-.4-.4-.92-.59-1.43-.59-.52 0-1.04.2-1.43.59L10.3 9.45l-7.72 7.72c-.78.78-.78 2.05 0 2.83L4 21.41c.39.39.9.59 1.41.59.51 0 1.02-.2 1.41-.59l7.78-7.78 2.81-2.81c.8-.78.8-2.07 0-2.86zM5.41 20L4 18.59l7.72-7.72 1.47 1.35L5.41 20z\"/>\n",
              "  </svg>\n",
              "      </button>\n",
              "      \n",
              "  <style>\n",
              "    .colab-df-container {\n",
              "      display:flex;\n",
              "      flex-wrap:wrap;\n",
              "      gap: 12px;\n",
              "    }\n",
              "\n",
              "    .colab-df-convert {\n",
              "      background-color: #E8F0FE;\n",
              "      border: none;\n",
              "      border-radius: 50%;\n",
              "      cursor: pointer;\n",
              "      display: none;\n",
              "      fill: #1967D2;\n",
              "      height: 32px;\n",
              "      padding: 0 0 0 0;\n",
              "      width: 32px;\n",
              "    }\n",
              "\n",
              "    .colab-df-convert:hover {\n",
              "      background-color: #E2EBFA;\n",
              "      box-shadow: 0px 1px 2px rgba(60, 64, 67, 0.3), 0px 1px 3px 1px rgba(60, 64, 67, 0.15);\n",
              "      fill: #174EA6;\n",
              "    }\n",
              "\n",
              "    [theme=dark] .colab-df-convert {\n",
              "      background-color: #3B4455;\n",
              "      fill: #D2E3FC;\n",
              "    }\n",
              "\n",
              "    [theme=dark] .colab-df-convert:hover {\n",
              "      background-color: #434B5C;\n",
              "      box-shadow: 0px 1px 3px 1px rgba(0, 0, 0, 0.15);\n",
              "      filter: drop-shadow(0px 1px 2px rgba(0, 0, 0, 0.3));\n",
              "      fill: #FFFFFF;\n",
              "    }\n",
              "  </style>\n",
              "\n",
              "      <script>\n",
              "        const buttonEl =\n",
              "          document.querySelector('#df-b6944c3d-efc5-4e43-9d26-e133e3263ddd button.colab-df-convert');\n",
              "        buttonEl.style.display =\n",
              "          google.colab.kernel.accessAllowed ? 'block' : 'none';\n",
              "\n",
              "        async function convertToInteractive(key) {\n",
              "          const element = document.querySelector('#df-b6944c3d-efc5-4e43-9d26-e133e3263ddd');\n",
              "          const dataTable =\n",
              "            await google.colab.kernel.invokeFunction('convertToInteractive',\n",
              "                                                     [key], {});\n",
              "          if (!dataTable) return;\n",
              "\n",
              "          const docLinkHtml = 'Like what you see? Visit the ' +\n",
              "            '<a target=\"_blank\" href=https://colab.research.google.com/notebooks/data_table.ipynb>data table notebook</a>'\n",
              "            + ' to learn more about interactive tables.';\n",
              "          element.innerHTML = '';\n",
              "          dataTable['output_type'] = 'display_data';\n",
              "          await google.colab.output.renderOutput(dataTable, element);\n",
              "          const docLink = document.createElement('div');\n",
              "          docLink.innerHTML = docLinkHtml;\n",
              "          element.appendChild(docLink);\n",
              "        }\n",
              "      </script>\n",
              "    </div>\n",
              "  </div>\n",
              "  "
            ]
          },
          "metadata": {},
          "execution_count": 14
        }
      ]
    },
    {
      "cell_type": "markdown",
      "source": [
        "##**Dataset statistics**"
      ],
      "metadata": {
        "id": "HAOEhJy-wWgp"
      }
    },
    {
      "cell_type": "markdown",
      "source": [
        "The following pie chart, shows the distribution of RSVPs per member ID (only showing the top 10 members who attended the most)"
      ],
      "metadata": {
        "id": "t7_ZHDGfwYhU"
      }
    },
    {
      "cell_type": "code",
      "source": [
        "fig1, ax1 = plt.subplots()\n",
        "#ax1.pie(df_rsvps_per_member.head(10)['count'], labels=df_rsvps_per_member['member_id'].head(10), autopct='%1.1f%%', textprops={'color':\"w\"}, shadow=True, startangle=90)\n",
        "ax1.pie(df_rsvps_per_member.head(10)['count'], labels=df_rsvps_per_member['member_id'].head(10), autopct='%1.1f%%', shadow=True, startangle=90)\n",
        "plt.title(\"Distribution of RVSPs per member (top 10)\", bbox={'facecolor':'0.8', 'pad':10})\n",
        "ax1.axis('equal')  # Equal aspect ratio ensures that pie is drawn as a circle.\n",
        "#print(df_rsvps_per_member.head(10))\n",
        "plt.show()"
      ],
      "metadata": {
        "colab": {
          "base_uri": "https://localhost:8080/",
          "height": 268
        },
        "id": "86eKiNcyGgz0",
        "outputId": "c1ada20e-7069-4867-bea2-688e1364690d"
      },
      "execution_count": null,
      "outputs": [
        {
          "output_type": "display_data",
          "data": {
            "text/plain": [
              "<Figure size 432x288 with 1 Axes>"
            ],
            "image/png": "[encoded data removed]"
          },
          "metadata": {}
        }
      ]
    },
    {
      "cell_type": "markdown",
      "source": [
        "###**Plotting details about user with id 6780662**"
      ],
      "metadata": {
        "id": "5uzH-jQMIJH_"
      }
    },
    {
      "cell_type": "markdown",
      "source": [
        "The following pie charts shows the distribution of events (either by group/organizer, day, or location)"
      ],
      "metadata": {
        "id": "0Fb4rSH8xU-X"
      }
    },
    {
      "cell_type": "code",
      "source": [
        "df_merged_to_plot = df_merged[df_merged['member_id'] == 6780662]\n",
        "\n",
        "sum_events_per_group = {}\n",
        "sum_events_per_location = {}\n",
        "sum_events_per_day = {}\n",
        "for index,row in df_merged_to_plot.iterrows():\n",
        "  #Getting total counts per day per event a specific member attended\n",
        "  datetime_str = row['event_time'].split(' ')\n",
        "  day_of_week = datetime.datetime.strptime(datetime_str[0], '%m/%d/%Y').strftime('%A')\n",
        "\n",
        "  if day_of_week not in sum_events_per_day:\n",
        "    sum_events_per_day[day_of_week] = 1\n",
        "  else:\n",
        "    sum_events_per_day[day_of_week] += 1\n",
        "  #Getting total counts per location per event a specific member attended\n",
        "\n",
        "  if row['member_city'] not in sum_events_per_location:\n",
        "    sum_events_per_location[row['member_city']] = 1\n",
        "  else:\n",
        "    sum_events_per_location[row['member_city']] += 1\n",
        "  \n",
        "  #Getting total counts per group per event a specific member attended\n",
        "\n",
        "  if row['group_id'] not in sum_events_per_group:\n",
        "    sum_events_per_group[row['group_id']] = 1\n",
        "  else:\n",
        "    sum_events_per_group[row['group_id']] += 1\n",
        "# Data to plot\n",
        "labels = []\n",
        "sizes = []\n",
        "for x, y in sum_events_per_day.items():\n",
        "    labels.append(x)\n",
        "    sizes.append(y)\n",
        "#print(sum_events_per_day)\n",
        "\n",
        "bbox_props=dict(boxstyle='square,pad=0.3',fc ='w',ec='k',lw=0.72)\n",
        "kw=dict(xycoords='data',textcoords='data',arrowprops=dict(arrowstyle='-'),zorder=0,va='center')\n",
        "\n",
        "fig1,ax1=plt.subplots()\n",
        "labels=[\"Wednesday\\n4.9%\",\"Tuesday\\n1.6%\",\"Saturday\\n13.5%\",\"Thursday\\n53.6%\",\"Sunday\\n10.7%\",\"Friday\\n15.8%\"]\n",
        "values=sizes\n",
        "# Add code\n",
        "annotate_dict = {k:v for k,v in zip(labels, values)}\n",
        "val = [[x,y] for x,y in zip(sorted(values, reverse=True),sorted(values))]\n",
        "values1 = sum(val, [])\n",
        "\n",
        "new_labels = []\n",
        "for v in values1[:len(values)]:\n",
        "    for key, value in annotate_dict.items():\n",
        "        if v == value:\n",
        "            new_labels.append(key)\n",
        "            \n",
        "wedges,texts=ax1.pie(values1[:len(values)],explode=[0.01,0.01,0.01,0.01,0.01,0.01],labeldistance=1.2,startangle=90)\n",
        "for i,p in enumerate(wedges):\n",
        "    ang=(p.theta2-p.theta1)/2. +p.theta1\n",
        "    y=np.sin(np.deg2rad(ang))\n",
        "    x=np.cos(np.deg2rad(ang))\n",
        "    horizontalalignment={-1:\"right\",1:\"left\"}[int(np.sign(x))]\n",
        "    connectionstyle=\"angle,angleA=0,angleB={}\".format(ang)\n",
        "    kw[\"arrowprops\"].update({\"connectionstyle\":connectionstyle})\n",
        "    ax1.annotate(new_labels[i],xy=(x, y),xytext=(1.35*np.sign(x),1.4*y),\n",
        "                horizontalalignment=horizontalalignment,**kw)\n",
        "\n",
        "plt.title(\"Distribution of RVSPs per group (Member ID 6780662)\\n\\n\")\n",
        "plt.show()"
      ],
      "metadata": {
        "colab": {
          "base_uri": "https://localhost:8080/",
          "height": 314
        },
        "id": "Lm74pjulUZuf",
        "outputId": "6f3e911a-6b41-4e97-bda1-e0466cf2d57b"
      },
      "execution_count": null,
      "outputs": [
        {
          "output_type": "display_data",
          "data": {
            "text/plain": [
              "<Figure size 432x288 with 1 Axes>"
            ],
            "image/png": "[encoded data removed]"
          },
          "metadata": {}
        }
      ]
    },
    {
      "cell_type": "code",
      "source": [
        "# Data to plot\n",
        "labels = []\n",
        "sizes = []\n",
        "for x, y in sum_events_per_location.items():\n",
        "    labels.append(x)\n",
        "    sizes.append(y)\n",
        "print(sum_events_per_location)\n",
        "fig1, ax1 = plt.subplots()\n",
        "ax1.pie(sizes, labels=labels, autopct='%1.1f%%', shadow=True, startangle=90)\n",
        "plt.title(\"Distribution of RVSPs per location (Member ID 6780662)\", bbox={'facecolor':'0.8', 'pad':10})\n",
        "ax1.axis('equal')  # Equal aspect ratio ensures that pie is drawn as a circle.\n",
        "\n",
        "plt.show()"
      ],
      "metadata": {
        "colab": {
          "base_uri": "https://localhost:8080/",
          "height": 287
        },
        "id": "IMD183X1KmkI",
        "outputId": "c008bfaf-7f7b-41a9-ade6-0ca1cc08c50b"
      },
      "execution_count": null,
      "outputs": [
        {
          "output_type": "stream",
          "name": "stdout",
          "text": [
            "{'Nashville': 513}\n"
          ]
        },
        {
          "output_type": "display_data",
          "data": {
            "text/plain": [
              "<Figure size 432x288 with 1 Axes>"
            ],
            "image/png": "[encoded data removed]"
          },
          "metadata": {}
        }
      ]
    },
    {
      "cell_type": "code",
      "source": [
        "# Data to plot\n",
        "labels = []\n",
        "sizes = []\n",
        "for x, y in sum_events_per_group.items():\n",
        "    labels.append(x)\n",
        "    sizes.append(y)\n",
        "#print(sum_events_per_group)\n",
        "\n",
        "bbox_props=dict(boxstyle='square,pad=0.3',fc ='w',ec='k',lw=0.72)\n",
        "kw=dict(xycoords='data',textcoords='data',arrowprops=dict(arrowstyle='-'),zorder=0,va='center')\n",
        "\n",
        "fig1,ax1=plt.subplots()\n",
        "labels=[\"710272\\n26.7%\",\"18798102\\n0.8%\",\"17487002\\n22.4%\",\"18256892\\n0.2%\",\"11776502\\n20.7%\",\"2496252\\n0.2%\",\"788001\\n20.9%\",\"1324203\\n8.2%\"]\n",
        "values=sizes\n",
        "# Add code\n",
        "annotate_dict = {k:v for k,v in zip(labels, values)}\n",
        "val = [[x,y] for x,y in zip(sorted(values, reverse=True),sorted(values))]\n",
        "values1 = sum(val, [])\n",
        "\n",
        "new_labels = []\n",
        "for v in values1[:len(values)]:\n",
        "    for key, value in annotate_dict.items():\n",
        "        if v == value:\n",
        "            new_labels.append(key)\n",
        "\n",
        "wedges,texts=ax1.pie(values1[:len(values)],explode=[0.01,0.01,0.01,0.01,0.01,0.01,0.01,0.01],labeldistance=1.2,startangle=90)\n",
        "for i,p in enumerate(wedges):\n",
        "    ang=(p.theta2-p.theta1)/2. +p.theta1\n",
        "    y=np.sin(np.deg2rad(ang))\n",
        "    x=np.cos(np.deg2rad(ang))\n",
        "    horizontalalignment={-1:\"right\",1:\"left\"}[int(np.sign(x))]\n",
        "    connectionstyle=\"angle,angleA=0,angleB={}\".format(ang)\n",
        "    kw[\"arrowprops\"].update({\"connectionstyle\":connectionstyle})\n",
        "    ax1.annotate(labels[i],xy=(x, y),xytext=(1.35*np.sign(x),1.4*y),\n",
        "                horizontalalignment=horizontalalignment,**kw)\n",
        "\n",
        "plt.title(\"Distribution of RVSPs per group (Member ID 6780662)\\n\\n\")\n",
        "plt.show()"
      ],
      "metadata": {
        "colab": {
          "base_uri": "https://localhost:8080/",
          "height": 318
        },
        "id": "LO-p4xJeMeD7",
        "outputId": "1aba2e48-165e-467f-e0d5-191b3b5e90db"
      },
      "execution_count": null,
      "outputs": [
        {
          "output_type": "display_data",
          "data": {
            "text/plain": [
              "<Figure size 432x288 with 1 Axes>"
            ],
            "image/png": "[encoded data removed]"
          },
          "metadata": {}
        }
      ]
    },
    {
      "cell_type": "markdown",
      "source": [
        "#**Assigning weights**"
      ],
      "metadata": {
        "id": "Ot2T3Q0XrLsM"
      }
    },
    {
      "cell_type": "markdown",
      "source": [
        "In the following code, we'll iterate over each member, and assign a weight on each of the events the user has attended. This value will be based on:\n",
        "\n",
        "*   The distribution of events per group\n",
        "*   The location\n",
        "*   Day of the week\n",
        "\n",
        "\n"
      ],
      "metadata": {
        "id": "SpjxO09mrODP"
      }
    },
    {
      "cell_type": "code",
      "source": [
        "#This will be used to feed the CNN\n",
        "df_input_labels = pd.DataFrame(columns = ['member_id','event_id','weighted_score'])\n",
        "\n",
        "#We split the dataset per member, so we can assign a weight score based on the variables previously mentioned\n",
        "df_merged_per_frequent_member = []\n",
        "\n",
        "for i in range(len(frequent_members_list)):\n",
        "  df_merged_per_frequent_member.append(df_merged[df_merged['member_id'] == frequent_members_list[i]])\n",
        "\n",
        "\n",
        "for i in range(len(frequent_members_list)):\n",
        "  sum_events_per_group = {}\n",
        "  sum_events_per_location = {}\n",
        "  sum_events_per_day = {}\n",
        "  for index,row in df_merged_per_frequent_member[i].iterrows():\n",
        "    #Getting total counts per day per event a specific member attended\n",
        "    datetime_str = row['event_time'].split(' ')\n",
        "    day_of_week = datetime.datetime.strptime(datetime_str[0], '%m/%d/%Y').strftime('%A')\n",
        "\n",
        "    if day_of_week not in sum_events_per_day:\n",
        "      sum_events_per_day[day_of_week] = 1\n",
        "    else:\n",
        "      sum_events_per_day[day_of_week] += 1\n",
        "    #Getting total counts per location per event a specific member attended\n",
        "\n",
        "    if row['member_city'] not in sum_events_per_location:\n",
        "      sum_events_per_location[row['member_city']] = 1\n",
        "    else:\n",
        "      sum_events_per_location[row['member_city']] += 1\n",
        "    \n",
        "    #Getting total counts per group per event a specific member attended\n",
        "\n",
        "    if row['group_id'] not in sum_events_per_group:\n",
        "      sum_events_per_group[row['group_id']] = 1\n",
        "    else:\n",
        "      sum_events_per_group[row['group_id']] += 1\n",
        "\n",
        "  #print(\"Distribution of events (by location, day, and group) for the member with ID: \"+str(frequent_members_list[i]))\n",
        "  #print(sum_events_per_day)\n",
        "  #print(sum_events_per_location)\n",
        "  #print(sum_events_per_group)\n",
        "\n",
        "  #Now that we obtained the distribution (by group, location and day), we proceed to calculate the Entropy\n",
        "  #𝑬𝒏𝒕𝒓𝒐𝒑𝒚 = 𝚺 -𝑃(𝐼) ∗ logn(𝑃(𝐼)) \n",
        "\n",
        "  entropy_group = 0\n",
        "  entropy_day = 0\n",
        "  entropy_location = 0\n",
        "\n",
        "  prob_i_group = {}\n",
        "  prob_i_day = {}\n",
        "  prob_i_location = {}\n",
        "\n",
        "  #We start calculating the entropy for group\n",
        "  for key in sum_events_per_group:\n",
        "    Prob_I = (sum_events_per_group[key]/len(df_merged_per_frequent_member[i]))\n",
        "    prob_i_group[key] = Prob_I\n",
        "    if Prob_I == 1.0:\n",
        "      entropy_group = 0\n",
        "      break\n",
        "    entropy_group += -Prob_I*math.log(Prob_I, len(sum_events_per_group))\n",
        "  \n",
        "  #We start calculating the entropy for day\n",
        "  for key in sum_events_per_day:\n",
        "    Prob_I = (sum_events_per_day[key]/len(df_merged_per_frequent_member[i]))\n",
        "    prob_i_day[key] = Prob_I\n",
        "    if Prob_I == 1.0:\n",
        "      entropy_day = 0\n",
        "      break\n",
        "    entropy_day += -Prob_I*math.log(Prob_I, len(sum_events_per_day))\n",
        "  \n",
        "  #We start calculating the entropy for location\n",
        "  for key in sum_events_per_location:\n",
        "    Prob_I = (sum_events_per_location[key]/len(df_merged_per_frequent_member[i]))\n",
        "    prob_i_location[key] = Prob_I\n",
        "    if Prob_I == 1.0:\n",
        "      entropy_location = 0\n",
        "      break\n",
        "    entropy_location += -Prob_I*math.log(Prob_I, len(sum_events_per_location))\n",
        "  \n",
        "  #Now we assign the weights for each event a specific member attended, given the entropy and distribution\n",
        "  for index,row in df_merged_per_frequent_member[i].iterrows():\n",
        "    final_weight_per_event = 0.0\n",
        "    group_temp = row['group_id']\n",
        "    location_temp = row['member_city']\n",
        "    datetime_str = row['event_time'].split(' ')\n",
        "    day_of_week_temp = datetime.datetime.strptime(datetime_str[0], '%m/%d/%Y').strftime('%A')\n",
        "    final_weight_per_event += (entropy_group - (entropy_group * prob_i_group[group_temp])+prob_i_group[group_temp])*5\n",
        "    final_weight_per_event += (entropy_location - (entropy_location * prob_i_location[location_temp])+prob_i_location[location_temp])*5\n",
        "    final_weight_per_event += (entropy_day - (entropy_day * prob_i_day[day_of_week_temp])+prob_i_day[day_of_week_temp])*5\n",
        "    final_weight_per_event = final_weight_per_event/3\n",
        "\n",
        "    df_input_labels.loc[len(df_input_labels.index)] = [row['member_id'], row['event_id'], final_weight_per_event] \n"
      ],
      "metadata": {
        "id": "IAkC12YSrmyh"
      },
      "execution_count": null,
      "outputs": []
    },
    {
      "cell_type": "markdown",
      "source": [
        "The following dataframe shows some weighted values obtained based on the member and event relationship, and considering the variables mentioned before (organizer, location, and day)"
      ],
      "metadata": {
        "id": "DupQznpJxwpd"
      }
    },
    {
      "cell_type": "code",
      "source": [
        "df_input_labels.sort_values(['weighted_score'], ascending=True)\n"
      ],
      "metadata": {
        "colab": {
          "base_uri": "https://localhost:8080/",
          "height": 423
        },
        "id": "6u9fzh4VzVlT",
        "outputId": "fdf75ff5-64a0-4a33-d0de-b18a693b118e"
      },
      "execution_count": null,
      "outputs": [
        {
          "output_type": "execute_result",
          "data": {
            "text/plain": [
              "       member_id      event_id  weighted_score\n",
              "14592   76644252     227847405        2.069219\n",
              "32943  129186362  dpklnfyvnbzb        2.384049\n",
              "30086   83272622  dbdcqfywnbfc        2.397757\n",
              "34710  129875952     230055662        2.418676\n",
              "24119   12597688  kkttxlywlbrb        2.420490\n",
              "...          ...           ...             ...\n",
              "22710   79867612     243085153        5.000000\n",
              "58557   45630562  wpzjwlywcbdc        5.000000\n",
              "58558   45630562  wpzjwlywcblb        5.000000\n",
              "69187    1127091  qwspfhywhbkb        5.000000\n",
              "63272  230659176     242197448        5.000000\n",
              "\n",
              "[71990 rows x 3 columns]"
            ],
            "text/html": [
              "\n",
              "  <div id=\"df-7aea5f92-683d-4557-993c-9dd063d78f32\">\n",
              "    <div class=\"colab-df-container\">\n",
              "      <div>\n",
              "<style scoped>\n",
              "    .dataframe tbody tr th:only-of-type {\n",
              "        vertical-align: middle;\n",
              "    }\n",
              "\n",
              "    .dataframe tbody tr th {\n",
              "        vertical-align: top;\n",
              "    }\n",
              "\n",
              "    .dataframe thead th {\n",
              "        text-align: right;\n",
              "    }\n",
              "</style>\n",
              "<table border=\"1\" class=\"dataframe\">\n",
              "  <thead>\n",
              "    <tr style=\"text-align: right;\">\n",
              "      <th></th>\n",
              "      <th>member_id</th>\n",
              "      <th>event_id</th>\n",
              "      <th>weighted_score</th>\n",
              "    </tr>\n",
              "  </thead>\n",
              "  <tbody>\n",
              "    <tr>\n",
              "      <th>14592</th>\n",
              "      <td>76644252</td>\n",
              "      <td>227847405</td>\n",
              "      <td>2.069219</td>\n",
              "    </tr>\n",
              "    <tr>\n",
              "      <th>32943</th>\n",
              "      <td>129186362</td>\n",
              "      <td>dpklnfyvnbzb</td>\n",
              "      <td>2.384049</td>\n",
              "    </tr>\n",
              "    <tr>\n",
              "      <th>30086</th>\n",
              "      <td>83272622</td>\n",
              "      <td>dbdcqfywnbfc</td>\n",
              "      <td>2.397757</td>\n",
              "    </tr>\n",
              "    <tr>\n",
              "      <th>34710</th>\n",
              "      <td>129875952</td>\n",
              "      <td>230055662</td>\n",
              "      <td>2.418676</td>\n",
              "    </tr>\n",
              "    <tr>\n",
              "      <th>24119</th>\n",
              "      <td>12597688</td>\n",
              "      <td>kkttxlywlbrb</td>\n",
              "      <td>2.420490</td>\n",
              "    </tr>\n",
              "    <tr>\n",
              "      <th>...</th>\n",
              "      <td>...</td>\n",
              "      <td>...</td>\n",
              "      <td>...</td>\n",
              "    </tr>\n",
              "    <tr>\n",
              "      <th>22710</th>\n",
              "      <td>79867612</td>\n",
              "      <td>243085153</td>\n",
              "      <td>5.000000</td>\n",
              "    </tr>\n",
              "    <tr>\n",
              "      <th>58557</th>\n",
              "      <td>45630562</td>\n",
              "      <td>wpzjwlywcbdc</td>\n",
              "      <td>5.000000</td>\n",
              "    </tr>\n",
              "    <tr>\n",
              "      <th>58558</th>\n",
              "      <td>45630562</td>\n",
              "      <td>wpzjwlywcblb</td>\n",
              "      <td>5.000000</td>\n",
              "    </tr>\n",
              "    <tr>\n",
              "      <th>69187</th>\n",
              "      <td>1127091</td>\n",
              "      <td>qwspfhywhbkb</td>\n",
              "      <td>5.000000</td>\n",
              "    </tr>\n",
              "    <tr>\n",
              "      <th>63272</th>\n",
              "      <td>230659176</td>\n",
              "      <td>242197448</td>\n",
              "      <td>5.000000</td>\n",
              "    </tr>\n",
              "  </tbody>\n",
              "</table>\n",
              "<p>71990 rows × 3 columns</p>\n",
              "</div>\n",
              "      <button class=\"colab-df-convert\" onclick=\"convertToInteractive('df-7aea5f92-683d-4557-993c-9dd063d78f32')\"\n",
              "              title=\"Convert this dataframe to an interactive table.\"\n",
              "              style=\"display:none;\">\n",
              "        \n",
              "  <svg xmlns=\"http://www.w3.org/2000/svg\" height=\"24px\"viewBox=\"0 0 24 24\"\n",
              "       width=\"24px\">\n",
              "    <path d=\"M0 0h24v24H0V0z\" fill=\"none\"/>\n",
              "    <path d=\"M18.56 5.44l.94 2.06.94-2.06 2.06-.94-2.06-.94-.94-2.06-.94 2.06-2.06.94zm-11 1L8.5 8.5l.94-2.06 2.06-.94-2.06-.94L8.5 2.5l-.94 2.06-2.06.94zm10 10l.94 2.06.94-2.06 2.06-.94-2.06-.94-.94-2.06-.94 2.06-2.06.94z\"/><path d=\"M17.41 7.96l-1.37-1.37c-.4-.4-.92-.59-1.43-.59-.52 0-1.04.2-1.43.59L10.3 9.45l-7.72 7.72c-.78.78-.78 2.05 0 2.83L4 21.41c.39.39.9.59 1.41.59.51 0 1.02-.2 1.41-.59l7.78-7.78 2.81-2.81c.8-.78.8-2.07 0-2.86zM5.41 20L4 18.59l7.72-7.72 1.47 1.35L5.41 20z\"/>\n",
              "  </svg>\n",
              "      </button>\n",
              "      \n",
              "  <style>\n",
              "    .colab-df-container {\n",
              "      display:flex;\n",
              "      flex-wrap:wrap;\n",
              "      gap: 12px;\n",
              "    }\n",
              "\n",
              "    .colab-df-convert {\n",
              "      background-color: #E8F0FE;\n",
              "      border: none;\n",
              "      border-radius: 50%;\n",
              "      cursor: pointer;\n",
              "      display: none;\n",
              "      fill: #1967D2;\n",
              "      height: 32px;\n",
              "      padding: 0 0 0 0;\n",
              "      width: 32px;\n",
              "    }\n",
              "\n",
              "    .colab-df-convert:hover {\n",
              "      background-color: #E2EBFA;\n",
              "      box-shadow: 0px 1px 2px rgba(60, 64, 67, 0.3), 0px 1px 3px 1px rgba(60, 64, 67, 0.15);\n",
              "      fill: #174EA6;\n",
              "    }\n",
              "\n",
              "    [theme=dark] .colab-df-convert {\n",
              "      background-color: #3B4455;\n",
              "      fill: #D2E3FC;\n",
              "    }\n",
              "\n",
              "    [theme=dark] .colab-df-convert:hover {\n",
              "      background-color: #434B5C;\n",
              "      box-shadow: 0px 1px 3px 1px rgba(0, 0, 0, 0.15);\n",
              "      filter: drop-shadow(0px 1px 2px rgba(0, 0, 0, 0.3));\n",
              "      fill: #FFFFFF;\n",
              "    }\n",
              "  </style>\n",
              "\n",
              "      <script>\n",
              "        const buttonEl =\n",
              "          document.querySelector('#df-7aea5f92-683d-4557-993c-9dd063d78f32 button.colab-df-convert');\n",
              "        buttonEl.style.display =\n",
              "          google.colab.kernel.accessAllowed ? 'block' : 'none';\n",
              "\n",
              "        async function convertToInteractive(key) {\n",
              "          const element = document.querySelector('#df-7aea5f92-683d-4557-993c-9dd063d78f32');\n",
              "          const dataTable =\n",
              "            await google.colab.kernel.invokeFunction('convertToInteractive',\n",
              "                                                     [key], {});\n",
              "          if (!dataTable) return;\n",
              "\n",
              "          const docLinkHtml = 'Like what you see? Visit the ' +\n",
              "            '<a target=\"_blank\" href=https://colab.research.google.com/notebooks/data_table.ipynb>data table notebook</a>'\n",
              "            + ' to learn more about interactive tables.';\n",
              "          element.innerHTML = '';\n",
              "          dataTable['output_type'] = 'display_data';\n",
              "          await google.colab.output.renderOutput(dataTable, element);\n",
              "          const docLink = document.createElement('div');\n",
              "          docLink.innerHTML = docLinkHtml;\n",
              "          element.appendChild(docLink);\n",
              "        }\n",
              "      </script>\n",
              "    </div>\n",
              "  </div>\n",
              "  "
            ]
          },
          "metadata": {},
          "execution_count": 23
        }
      ]
    },
    {
      "cell_type": "markdown",
      "source": [
        "Some event ids may contain non-numeric values, therefore, we'll assign a random number for each of these events"
      ],
      "metadata": {
        "id": "zGNLZgOvEmse"
      }
    },
    {
      "cell_type": "code",
      "source": [
        "df_temp = df_input_labels[df_input_labels['event_id'].apply(lambda x: not x.isnumeric())]\n",
        "df_non_numeric_event_id = df_temp.value_counts(subset=['event_id']).to_frame()\n",
        "df_non_numeric_event_id = df_non_numeric_event_id[0].reset_index(name=\"count\")\n",
        "non_numeric_event_list = df_non_numeric_event_id['event_id'].to_list()\n",
        "#We get the max value of an event id, so we can start assigning a number from there\n",
        "df_temp_2 = df_input_labels[df_input_labels['event_id'].apply(lambda x: x.isnumeric())]\n",
        "event_id_max_value = df_temp_2['event_id'].max()\n",
        "\n",
        "new_events_id = {}\n",
        "\n",
        "starting_value = int(event_id_max_value)+1\n",
        "for i in range(len(non_numeric_event_list)):\n",
        "  new_events_id[non_numeric_event_list[i]] = starting_value\n",
        "  starting_value +=1\n",
        "\n",
        "for index,row in df_input_labels.iterrows():\n",
        "  if row['event_id'] in new_events_id:\n",
        "    df_input_labels.at[index,'event_id'] = new_events_id[row['event_id']]"
      ],
      "metadata": {
        "id": "BHgobFIzDbAr"
      },
      "execution_count": null,
      "outputs": []
    },
    {
      "cell_type": "markdown",
      "source": [
        "Reordering and reassigning the member ids and event ids (so there aren't any empty values between these numbers)"
      ],
      "metadata": {
        "id": "AQ_xFB8eQFjQ"
      }
    },
    {
      "cell_type": "code",
      "source": [
        "df_input_labels['member_id'] = df_input_labels['member_id'].astype('int')\n",
        "df_input_labels['event_id'] = df_input_labels['event_id'].astype('int')\n",
        "\n",
        "#Reordering the member_ids\n",
        "df_input_labels_sorted_member_id = df_input_labels.sort_values('member_id')\n",
        "df_input_labels_sorted_member_id = df_input_labels_sorted_member_id.value_counts(subset=['member_id']).to_frame()\n",
        "df_ordered_member_list = df_input_labels_sorted_member_id[0].reset_index(name=\"count\")\n",
        "df_ordered_member_list = df_ordered_member_list['member_id'].to_list()\n",
        "\n",
        "#Reordering the events_ids\n",
        "df_input_labels_sorted_event_id = df_input_labels.sort_values('event_id')\n",
        "df_input_labels_sorted_event_id = df_input_labels_sorted_event_id.value_counts(subset=['event_id']).to_frame()\n",
        "df_ordered_event_list = df_input_labels_sorted_event_id[0].reset_index(name=\"count\")\n",
        "df_ordered_event_list = df_ordered_event_list['event_id'].to_list()\n",
        "\n",
        "for i in range(len(df_ordered_member_list)):\n",
        "  df_input_labels.loc[(df_input_labels.member_id == df_ordered_member_list[i]),'member_id']= i\n",
        "\n",
        "for i in range(len(df_ordered_event_list)):\n",
        "  df_input_labels.loc[(df_input_labels.event_id == df_ordered_event_list[i]),'event_id']= i\n",
        "\n",
        "df_input_labels.sort_values('member_id')"
      ],
      "metadata": {
        "colab": {
          "base_uri": "https://localhost:8080/",
          "height": 423
        },
        "id": "W-MOTGX1QNjN",
        "outputId": "8567083f-bc85-454c-9134-9067dce18fd0"
      },
      "execution_count": null,
      "outputs": [
        {
          "output_type": "execute_result",
          "data": {
            "text/plain": [
              "       member_id  event_id  weighted_score\n",
              "0              0      8707        4.231284\n",
              "350            0      7847        4.530917\n",
              "349            0     12038        4.353516\n",
              "348            0      8346        4.530917\n",
              "347            0     12132        4.364806\n",
              "...          ...       ...             ...\n",
              "71875       2694      1069        4.739229\n",
              "71873       2694      2836        4.789471\n",
              "71872       2694      1816        4.739229\n",
              "71870       2694      2481        4.739229\n",
              "71874       2694      1117        4.789471\n",
              "\n",
              "[71990 rows x 3 columns]"
            ],
            "text/html": [
              "\n",
              "  <div id=\"df-2b17921a-5503-44a7-9a24-5fa15881938a\">\n",
              "    <div class=\"colab-df-container\">\n",
              "      <div>\n",
              "<style scoped>\n",
              "    .dataframe tbody tr th:only-of-type {\n",
              "        vertical-align: middle;\n",
              "    }\n",
              "\n",
              "    .dataframe tbody tr th {\n",
              "        vertical-align: top;\n",
              "    }\n",
              "\n",
              "    .dataframe thead th {\n",
              "        text-align: right;\n",
              "    }\n",
              "</style>\n",
              "<table border=\"1\" class=\"dataframe\">\n",
              "  <thead>\n",
              "    <tr style=\"text-align: right;\">\n",
              "      <th></th>\n",
              "      <th>member_id</th>\n",
              "      <th>event_id</th>\n",
              "      <th>weighted_score</th>\n",
              "    </tr>\n",
              "  </thead>\n",
              "  <tbody>\n",
              "    <tr>\n",
              "      <th>0</th>\n",
              "      <td>0</td>\n",
              "      <td>8707</td>\n",
              "      <td>4.231284</td>\n",
              "    </tr>\n",
              "    <tr>\n",
              "      <th>350</th>\n",
              "      <td>0</td>\n",
              "      <td>7847</td>\n",
              "      <td>4.530917</td>\n",
              "    </tr>\n",
              "    <tr>\n",
              "      <th>349</th>\n",
              "      <td>0</td>\n",
              "      <td>12038</td>\n",
              "      <td>4.353516</td>\n",
              "    </tr>\n",
              "    <tr>\n",
              "      <th>348</th>\n",
              "      <td>0</td>\n",
              "      <td>8346</td>\n",
              "      <td>4.530917</td>\n",
              "    </tr>\n",
              "    <tr>\n",
              "      <th>347</th>\n",
              "      <td>0</td>\n",
              "      <td>12132</td>\n",
              "      <td>4.364806</td>\n",
              "    </tr>\n",
              "    <tr>\n",
              "      <th>...</th>\n",
              "      <td>...</td>\n",
              "      <td>...</td>\n",
              "      <td>...</td>\n",
              "    </tr>\n",
              "    <tr>\n",
              "      <th>71875</th>\n",
              "      <td>2694</td>\n",
              "      <td>1069</td>\n",
              "      <td>4.739229</td>\n",
              "    </tr>\n",
              "    <tr>\n",
              "      <th>71873</th>\n",
              "      <td>2694</td>\n",
              "      <td>2836</td>\n",
              "      <td>4.789471</td>\n",
              "    </tr>\n",
              "    <tr>\n",
              "      <th>71872</th>\n",
              "      <td>2694</td>\n",
              "      <td>1816</td>\n",
              "      <td>4.739229</td>\n",
              "    </tr>\n",
              "    <tr>\n",
              "      <th>71870</th>\n",
              "      <td>2694</td>\n",
              "      <td>2481</td>\n",
              "      <td>4.739229</td>\n",
              "    </tr>\n",
              "    <tr>\n",
              "      <th>71874</th>\n",
              "      <td>2694</td>\n",
              "      <td>1117</td>\n",
              "      <td>4.789471</td>\n",
              "    </tr>\n",
              "  </tbody>\n",
              "</table>\n",
              "<p>71990 rows × 3 columns</p>\n",
              "</div>\n",
              "      <button class=\"colab-df-convert\" onclick=\"convertToInteractive('df-2b17921a-5503-44a7-9a24-5fa15881938a')\"\n",
              "              title=\"Convert this dataframe to an interactive table.\"\n",
              "              style=\"display:none;\">\n",
              "        \n",
              "  <svg xmlns=\"http://www.w3.org/2000/svg\" height=\"24px\"viewBox=\"0 0 24 24\"\n",
              "       width=\"24px\">\n",
              "    <path d=\"M0 0h24v24H0V0z\" fill=\"none\"/>\n",
              "    <path d=\"M18.56 5.44l.94 2.06.94-2.06 2.06-.94-2.06-.94-.94-2.06-.94 2.06-2.06.94zm-11 1L8.5 8.5l.94-2.06 2.06-.94-2.06-.94L8.5 2.5l-.94 2.06-2.06.94zm10 10l.94 2.06.94-2.06 2.06-.94-2.06-.94-.94-2.06-.94 2.06-2.06.94z\"/><path d=\"M17.41 7.96l-1.37-1.37c-.4-.4-.92-.59-1.43-.59-.52 0-1.04.2-1.43.59L10.3 9.45l-7.72 7.72c-.78.78-.78 2.05 0 2.83L4 21.41c.39.39.9.59 1.41.59.51 0 1.02-.2 1.41-.59l7.78-7.78 2.81-2.81c.8-.78.8-2.07 0-2.86zM5.41 20L4 18.59l7.72-7.72 1.47 1.35L5.41 20z\"/>\n",
              "  </svg>\n",
              "      </button>\n",
              "      \n",
              "  <style>\n",
              "    .colab-df-container {\n",
              "      display:flex;\n",
              "      flex-wrap:wrap;\n",
              "      gap: 12px;\n",
              "    }\n",
              "\n",
              "    .colab-df-convert {\n",
              "      background-color: #E8F0FE;\n",
              "      border: none;\n",
              "      border-radius: 50%;\n",
              "      cursor: pointer;\n",
              "      display: none;\n",
              "      fill: #1967D2;\n",
              "      height: 32px;\n",
              "      padding: 0 0 0 0;\n",
              "      width: 32px;\n",
              "    }\n",
              "\n",
              "    .colab-df-convert:hover {\n",
              "      background-color: #E2EBFA;\n",
              "      box-shadow: 0px 1px 2px rgba(60, 64, 67, 0.3), 0px 1px 3px 1px rgba(60, 64, 67, 0.15);\n",
              "      fill: #174EA6;\n",
              "    }\n",
              "\n",
              "    [theme=dark] .colab-df-convert {\n",
              "      background-color: #3B4455;\n",
              "      fill: #D2E3FC;\n",
              "    }\n",
              "\n",
              "    [theme=dark] .colab-df-convert:hover {\n",
              "      background-color: #434B5C;\n",
              "      box-shadow: 0px 1px 3px 1px rgba(0, 0, 0, 0.15);\n",
              "      filter: drop-shadow(0px 1px 2px rgba(0, 0, 0, 0.3));\n",
              "      fill: #FFFFFF;\n",
              "    }\n",
              "  </style>\n",
              "\n",
              "      <script>\n",
              "        const buttonEl =\n",
              "          document.querySelector('#df-2b17921a-5503-44a7-9a24-5fa15881938a button.colab-df-convert');\n",
              "        buttonEl.style.display =\n",
              "          google.colab.kernel.accessAllowed ? 'block' : 'none';\n",
              "\n",
              "        async function convertToInteractive(key) {\n",
              "          const element = document.querySelector('#df-2b17921a-5503-44a7-9a24-5fa15881938a');\n",
              "          const dataTable =\n",
              "            await google.colab.kernel.invokeFunction('convertToInteractive',\n",
              "                                                     [key], {});\n",
              "          if (!dataTable) return;\n",
              "\n",
              "          const docLinkHtml = 'Like what you see? Visit the ' +\n",
              "            '<a target=\"_blank\" href=https://colab.research.google.com/notebooks/data_table.ipynb>data table notebook</a>'\n",
              "            + ' to learn more about interactive tables.';\n",
              "          element.innerHTML = '';\n",
              "          dataTable['output_type'] = 'display_data';\n",
              "          await google.colab.output.renderOutput(dataTable, element);\n",
              "          const docLink = document.createElement('div');\n",
              "          docLink.innerHTML = docLinkHtml;\n",
              "          element.appendChild(docLink);\n",
              "        }\n",
              "      </script>\n",
              "    </div>\n",
              "  </div>\n",
              "  "
            ]
          },
          "metadata": {},
          "execution_count": 25
        }
      ]
    },
    {
      "cell_type": "markdown",
      "source": [
        "#**Building and training the Convolutional Neural Network**"
      ],
      "metadata": {
        "id": "nmytaYDqywFF"
      }
    },
    {
      "cell_type": "markdown",
      "source": [
        "CNN's fine-tuning parameters:\n",
        "*   **128** neurons for the first hidden layer\n",
        "*   **32** neurons for the second hidden layer\n",
        "*   **1** neuron for the output layer\n",
        "*   **Number of epochs:** 5\n",
        "\n",
        "Three separated training process were carried out by using the following training/validation/testing ratios:\n",
        "*   **80%** for training, **10%** for validation, **10%** for testing\n",
        "*   **60%** for training, **20%** for validation, **20%** for testing\n",
        "*   **40%** for training, **30%** for validation, **30%** for testing\n",
        "\n",
        "\n"
      ],
      "metadata": {
        "id": "M2hwRaz_y7xT"
      }
    },
    {
      "cell_type": "code",
      "source": [
        "#80% for training, 10% for validation, 10% for testing\n",
        "np.random.seed(42)\n",
        "train, test = train_test_split(df_input_labels, test_size=0.1, random_state=42)\n",
        "train, val = train_test_split(train, test_size=0.1*(1/0.9), random_state=42)\n",
        "\n",
        "# creating event embedding path\n",
        "event_input = Input(shape=[1], name=\"Event-Input\")\n",
        "event_embedding = Embedding(df_input_labels['event_id'].max()+1, 20, name=\"Event-Embedding\")(event_input)\n",
        "event_vec = Flatten(name=\"Flatten-Events\")(event_embedding)\n",
        "# creating user embedding path\n",
        "user_input = Input(shape=[1], name=\"User-Input\")\n",
        "user_embedding = Embedding(df_input_labels['member_id'].max()+1, 20, name=\"User-Embedding\")(user_input)\n",
        "user_vec = Flatten(name=\"Flatten-Users\")(user_embedding)\n",
        "# concatenate features\n",
        "conc = Concatenate()([event_vec, user_vec])\n",
        "# add fully-connected-layers\n",
        "fc1 = Dense(128, activation='relu')(conc)\n",
        "fc2 = Dense(32, activation='relu')(fc1)\n",
        "out = Dense(1)(fc2)\n",
        "# Create model and compile it\n",
        "model2 = Model([user_input, event_input], out)\n",
        "model2.compile('adam', 'mean_squared_error')\n",
        "\n",
        "history = model2.fit([train.member_id, train.event_id], train.weighted_score, epochs=5, verbose=1)\n",
        "\n",
        "predictions = model2.predict([train.member_id, train.event_id])\n",
        "print(\"Training 80%| Validation 10% | Testing 10%\")\n",
        "print(\"Root mean square error (Training): \"+str(mean_squared_error(train.weighted_score, predictions, squared=False)))\n",
        "predictions = model2.predict([val.member_id, val.event_id])\n",
        "print(\"Root mean square error (Validation): \"+str(mean_squared_error(val.weighted_score, predictions, squared=False)))\n",
        "predictions = model2.predict([test.member_id, test.event_id])\n",
        "print(\"Root mean square error (Testing): \"+str(mean_squared_error(test.weighted_score, predictions, squared=False)))"
      ],
      "metadata": {
        "colab": {
          "base_uri": "https://localhost:8080/"
        },
        "id": "WiYMOBhd-W4K",
        "outputId": "b1cea6aa-dc5f-4667-c79c-ec7fc6b7045f"
      },
      "execution_count": null,
      "outputs": [
        {
          "output_type": "stream",
          "name": "stdout",
          "text": [
            "Epoch 1/5\n",
            "1800/1800 [==============================] - 6s 3ms/step - loss: 0.5172\n",
            "Epoch 2/5\n",
            "1800/1800 [==============================] - 5s 3ms/step - loss: 0.0279\n",
            "Epoch 3/5\n",
            "1800/1800 [==============================] - 5s 3ms/step - loss: 0.0215\n",
            "Epoch 4/5\n",
            "1800/1800 [==============================] - 5s 3ms/step - loss: 0.0164\n",
            "Epoch 5/5\n",
            "1800/1800 [==============================] - 5s 3ms/step - loss: 0.0131\n",
            "Training 80%| Validation 10% | Testing 10%\n",
            "Root mean square error (Training): 0.09900727375240272\n",
            "Root mean square error (Validation): 0.15939181211392206\n",
            "Root mean square error (Testing): 0.1753007876854568\n"
          ]
        }
      ]
    },
    {
      "cell_type": "code",
      "source": [
        "#60% for training, 20% for validation, 20% for testing\n",
        "train, test = train_test_split(df_input_labels, test_size=0.2, random_state=42)\n",
        "train, val = train_test_split(train, test_size=0.2*(1/0.8), random_state=42)\n",
        "history = model2.fit([train.member_id, train.event_id], train.weighted_score, epochs=5, verbose=1)\n",
        "predictions = model2.predict([train.member_id, train.event_id])\n",
        "print(\"Training 60%| Validation 20% | Testing 20%\")\n",
        "print(\"Root mean square error (Training): \"+str(mean_squared_error(train.weighted_score, predictions, squared=False)))\n",
        "predictions = model2.predict([val.member_id, val.event_id])\n",
        "print(\"Root mean square error (Validation): \"+str(mean_squared_error(val.weighted_score, predictions, squared=False)))\n",
        "predictions = model2.predict([test.member_id, test.event_id])\n",
        "print(\"Root mean square error (Testing): \"+str(mean_squared_error(test.weighted_score, predictions, squared=False)))"
      ],
      "metadata": {
        "colab": {
          "base_uri": "https://localhost:8080/"
        },
        "outputId": "a08fcdcc-d302-45c7-c75a-91a38af23e40",
        "id": "RmPMaFHRfuuI"
      },
      "execution_count": null,
      "outputs": [
        {
          "output_type": "stream",
          "name": "stdout",
          "text": [
            "Epoch 1/5\n",
            "1350/1350 [==============================] - 4s 3ms/step - loss: 0.0123\n",
            "Epoch 2/5\n",
            "1350/1350 [==============================] - 4s 3ms/step - loss: 0.0088\n",
            "Epoch 3/5\n",
            "1350/1350 [==============================] - 4s 3ms/step - loss: 0.0070\n",
            "Epoch 4/5\n",
            "1350/1350 [==============================] - 4s 3ms/step - loss: 0.0059\n",
            "Epoch 5/5\n",
            "1350/1350 [==============================] - 4s 3ms/step - loss: 0.0050\n",
            "Training 60%| Validation 20% | Testing 20%\n",
            "Root mean square error (Training): 0.06061719098884168\n",
            "Root mean square error (Validation): 0.12646004129472824\n",
            "Root mean square error (Testing): 0.15047785621410392\n"
          ]
        }
      ]
    },
    {
      "cell_type": "code",
      "source": [
        "#40% for training, 30% for validation, 30% for testing\n",
        "train, test = train_test_split(df_input_labels, test_size=0.3, random_state=42)\n",
        "train, val = train_test_split(train, test_size=0.3*(1/0.7), random_state=42)\n",
        "history = model2.fit([train.member_id, train.event_id], train.weighted_score, epochs=5, verbose=1)\n",
        "predictions = model2.predict([train.member_id, train.event_id])\n",
        "print(\"Training 40%| Validation 30% | Testing 30%\")\n",
        "print(\"Root mean square error (Training): \"+str(mean_squared_error(train.weighted_score, predictions, squared=False)))\n",
        "predictions = model2.predict([val.member_id, val.event_id])\n",
        "print(\"Root mean square error (Validation): \"+str(mean_squared_error(val.weighted_score, predictions, squared=False)))\n",
        "predictions = model2.predict([test.member_id, test.event_id])\n",
        "print(\"Root mean square error (Testing): \"+str(mean_squared_error(test.weighted_score, predictions, squared=False)))\n"
      ],
      "metadata": {
        "colab": {
          "base_uri": "https://localhost:8080/"
        },
        "outputId": "f4af70e9-d9c3-4dd5-d5b3-6ac7f1fd87a9",
        "id": "FKlyFDiWfuuJ"
      },
      "execution_count": null,
      "outputs": [
        {
          "output_type": "stream",
          "name": "stdout",
          "text": [
            "Epoch 1/5\n",
            "900/900 [==============================] - 3s 3ms/step - loss: 0.0080\n",
            "Epoch 2/5\n",
            "900/900 [==============================] - 3s 3ms/step - loss: 0.0048\n",
            "Epoch 3/5\n",
            "900/900 [==============================] - 3s 3ms/step - loss: 0.0034\n",
            "Epoch 4/5\n",
            "900/900 [==============================] - 3s 3ms/step - loss: 0.0029\n",
            "Epoch 5/5\n",
            "900/900 [==============================] - 3s 3ms/step - loss: 0.0028\n",
            "Training 40%| Validation 30% | Testing 30%\n",
            "Root mean square error (Training): 0.047898977762404635\n",
            "Root mean square error (Validation): 0.09789680272862238\n",
            "Root mean square error (Testing): 0.13475129673273237\n"
          ]
        }
      ]
    }
  ]
}